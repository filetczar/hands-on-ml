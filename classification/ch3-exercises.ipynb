{
 "cells": [
  {
   "cell_type": "code",
   "execution_count": 2,
   "metadata": {},
   "outputs": [],
   "source": [
    "import pandas as pd\n",
    "import numpy as np\n",
    "from sklearn.neighbors import KNeighborsClassifier \n",
    "from sklearn.metrics import precision_score, recall_score, confusion_matrix \n",
    "from sklearn.model_selection import cross_val_score, train_test_split\n",
    "from sklearn.datasets import fetch_openml\n",
    "mnist = fetch_openml('mnist_784', version=1)"
   ]
  },
  {
   "cell_type": "code",
   "execution_count": 3,
   "metadata": {},
   "outputs": [],
   "source": [
    "from sklearn.model_selection import GridSearchCV"
   ]
  },
  {
   "cell_type": "code",
   "execution_count": null,
   "metadata": {},
   "outputs": [],
   "source": [
    "# obtain a 97% accuracy on mnist with a KNN using grid search \n",
    "X,y = mnist['data'], mnist['target']\n",
    "X_train, X_test, Y_train, Y_test = train_test_split(X,y,test_size=.2, random_state=22 )\n",
    "model = KNeighborsClassifier()\n",
    "grid = {'weights': ['uniform', 'distance'], 'n_neighbors': [3,5]}\n",
    "CV_knn = GridSearchCV(estimator=model, param_grid=grid, cv= 5, scoring='accuracy')\n",
    "CV_knn.fit(X,y)\n",
    "print(CV_knn.best_score_)\n"
   ]
  },
  {
   "cell_type": "code",
   "execution_count": null,
   "metadata": {},
   "outputs": [],
   "source": []
  }
 ],
 "metadata": {
  "kernelspec": {
   "display_name": "Python 3",
   "language": "python",
   "name": "python3"
  }
 },
 "nbformat": 4,
 "nbformat_minor": 4
}
